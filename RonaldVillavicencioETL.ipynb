{
 "cells": [
  {
   "cell_type": "code",
   "execution_count": 1,
   "id": "0d3025c8",
   "metadata": {},
   "outputs": [],
   "source": [
    "import pandas as pd \n",
    "import numpy as np \n",
    "import sqlalchemy\n",
    "from sqlalchemy import create_engine\n",
    "import pyodbc\n",
    "import sqlite3\n",
    "from datetime import datetime"
   ]
  },
  {
   "cell_type": "code",
   "execution_count": 2,
   "id": "9176881f",
   "metadata": {},
   "outputs": [
    {
     "data": {
      "text/plain": [
       "Engine(sqlite:///chinook.db)"
      ]
     },
     "execution_count": 2,
     "metadata": {},
     "output_type": "execute_result"
    }
   ],
   "source": [
    "engine = create_engine('sqlite:///chinook.db') \n",
    "engine"
   ]
  },
  {
   "cell_type": "code",
   "execution_count": null,
   "id": "767f95bd",
   "metadata": {},
   "outputs": [],
   "source": [
    "F_I='2009-01-01'\n",
    "F_F='2030-12-31'\n",
    "df_Fecha = pd.DataFrame({'fecha': pd.date_range(F_I, F_F)})\n",
    "df_Fecha['año'] = df_Fecha.fecha.dt.year\n",
    "df_Fecha['mes'] = df_Fecha.fecha.dt.month\n",
    "df_Fecha['dia'] = df_Fecha.fecha.dt.day\n",
    "df_Fecha['nombre_dia'] = df_Fecha.fecha.dt.day_name()\n",
    "df_Fecha['dia_semana'] = df_Fecha.fecha.dt.dayofweek\n",
    "df_Fecha['semana'] = df_Fecha.fecha.dt.weekofyear\n",
    "df_Fecha['trimestre'] = df_Fecha.fecha.dt.quarter\n",
    "df_Fecha = df_Fecha[['fecha', 'año', 'mes', 'dia', 'nombre_dia', 'dia_semana', 'semana', 'trimestre']] \n"
   ]
  },
  {
   "cell_type": "code",
   "execution_count": 5,
   "id": "36b52462",
   "metadata": {},
   "outputs": [],
   "source": [
    "df_Track=pd.read_sql_query(\"\"\"SELECT  t.Name, mt.Name AS MediaType, g.Name AS Genre, t.Composer, t.Milliseconds, t.Bytes, t.UnitPrice \n",
    "       FROM tracks t\n",
    "       INNER JOIN\n",
    "       [genres] g ON t.GenreId = g.GenreId\n",
    "       INNER JOIN\n",
    "       media_types mt ON t.MediaTypeId = mt.MediaTypeId\"\"\" , con=engine.connect())\n",
    "\n",
    "df_Artists=pd.read_sql_query(\"\"\"SELECT Name From artists ; \"\"\" , con=engine.connect())\n",
    "df_Customers=pd.read_sql_query(\"\"\"SELECT  FirstName, LastName, Phone, Fax, Email from customers; \"\"\" , con=engine.connect())\n",
    "df_InvoiceItem=pd.read_sql_query(\"\"\"SELECT UnitPrice, Quantity from invoice_items ; \"\"\" , con=engine.connect())\n",
    "df_Album=pd.read_sql_query(\"\"\"SELECT Title From albums ; \"\"\" , con=engine.connect())\n",
    "df_Location=pd.read_sql_query(\"\"\"SELECT  BillingAddress AS Address, BillingCity AS City, BillingState AS State, BillingCountry AS Country, BillingPostalCode  AS PostalCode from invoices; \"\"\" , con=engine.connect())\n",
    "df_Employee=pd.read_sql_query(\"\"\"SELECT FirstName, LastName, Title, BirthDate, HireDate, Address, City, State, Country, PostalCode, Phone, Fax, Email From employees ; \"\"\" , con=engine.connect())\n",
    "\n",
    "df_FactSales = pd.read_sql_query(\"\"\"SELECT invoice_items.InvoiceLineId as InvoicesID, customers.CustomerId AS CustomerID, employees.EmployeeId AS EmployeeID, dim_time.timeID AS TimeID,\n",
    "invoices.InvoiceId as LocationID, tracks.TrackId AS TrackId, artists.ArtistId AS ArtistId, albums.AlbumId AS AlbumId, invoices.Total AS Total\n",
    "FROM invoices INNER JOIN customers\n",
    "ON invoices.CustomerId= customers.CustomerId\n",
    "INNER JOIN employees\n",
    "ON employees.EmployeeId= customers.SupportRepId\n",
    "INNER JOIN invoice_items\n",
    "ON invoice_items.InvoiceId= invoices.InvoiceId\n",
    "INNER JOIN tracks\n",
    "ON tracks.TrackId=  invoice_items.TrackId\n",
    "INNER JOIN albums\n",
    "ON tracks.AlbumId= albums.AlbumId\n",
    "INNER JOIN artists \n",
    "ON albums.ArtistId= artists.ArtistId \n",
    "INNER JOIN dim_time\n",
    "ON invoices.InvoiceDate= substr(dim_time.fecha,0,20);\"\"\", con=engine.connect())\n",
    "\n"
   ]
  },
  {
   "cell_type": "code",
   "execution_count": null,
   "id": "99e0cc34",
   "metadata": {},
   "outputs": [],
   "source": [
    "df_Track.fillna(method=\"ffill\", inplace = True) \n",
    "df_Customers.fillna(method=\"ffill\", inplace = True) \n",
    "df_InvoiceItem.fillna(method=\"ffill\", inplace = True) \n",
    "df_Location.fillna(method=\"ffill\", inplace = True) \n",
    "df_Employee.fillna(method=\"ffill\", inplace = True) "
   ]
  },
  {
   "cell_type": "code",
   "execution_count": null,
   "id": "d62023e3",
   "metadata": {},
   "outputs": [],
   "source": [
    "df_Fecha.to_sql(name='Dim_Time', con=engine.connect(), if_exists='append',index=False)"
   ]
  },
  {
   "cell_type": "code",
   "execution_count": null,
   "id": "04d1c79b",
   "metadata": {},
   "outputs": [],
   "source": [
    "coneSQL = sqlalchemy.create_engine('mssql+pyodbc://RONYY\\SQL2021/DW_Sales_Music?driver=SQL+Server+Native+Client+11.0')\n",
    "df_Track.to_sql(name='Dim_Track', con=coneSQL, if_exists='append',index=False)\n",
    "df_Artists.to_sql(name='Dim_Artist', con=coneSQL, if_exists='append',index=False)\n",
    "df_Customers.to_sql(name='Dim_Customer', con=coneSQL, if_exists='append',index=False)\n",
    "df_Album.to_sql(name='Dim_Album', con=coneSQL, if_exists='append',index=False)\n",
    "df_Employee.to_sql(name='Dim_Employee', con=coneSQL, if_exists='append',index=False)\n",
    "df_Location.to_sql(name='Dim_Location', con=conec, if_exists='append',index=False)\n",
    "df_Fecha.to_sql(name='Dim_Time', con=coneSQL, if_exists='append',index=False)\n",
    "df_InvoiceItem.to_sql(name='Dim_Invoice_Item', con=coneSQL, if_exists='append',index=False)\n",
    "df_FactSales.to_sql(name='Fact_Sales', con=coneSQL, if_exists='append',index=False)"
   ]
  }
 ],
 "metadata": {
  "kernelspec": {
   "display_name": "Python 3 (ipykernel)",
   "language": "python",
   "name": "python3"
  },
  "language_info": {
   "codemirror_mode": {
    "name": "ipython",
    "version": 3
   },
   "file_extension": ".py",
   "mimetype": "text/x-python",
   "name": "python",
   "nbconvert_exporter": "python",
   "pygments_lexer": "ipython3",
   "version": "3.9.7"
  }
 },
 "nbformat": 4,
 "nbformat_minor": 5
}
